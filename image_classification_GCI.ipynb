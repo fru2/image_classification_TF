{
  "nbformat": 4,
  "nbformat_minor": 0,
  "metadata": {
    "colab": {
      "name": "image_classification_GCI.ipynb",
      "provenance": [],
      "collapsed_sections": [],
      "include_colab_link": true
    },
    "kernelspec": {
      "name": "python3",
      "display_name": "Python 3"
    },
    "accelerator": "TPU"
  },
  "cells": [
    {
      "cell_type": "markdown",
      "metadata": {
        "id": "view-in-github",
        "colab_type": "text"
      },
      "source": [
        "<a href=\"https://colab.research.google.com/github/fru2/image_classification_TF/blob/master/image_classification_GCI.ipynb\" target=\"_parent\"><img src=\"https://colab.research.google.com/assets/colab-badge.svg\" alt=\"Open In Colab\"/></a>"
      ]
    },
    {
      "cell_type": "markdown",
      "metadata": {
        "id": "VOTtbvHZKhhJ",
        "colab_type": "text"
      },
      "source": [
        "Image Classification using tensorflow 2.0."
      ]
    },
    {
      "cell_type": "code",
      "metadata": {
        "id": "Ljg2AGEeWMUZ",
        "colab_type": "code",
        "colab": {}
      },
      "source": [
        "import tensorflow as tf\n",
        "import numpy as np\n",
        "import matplotlib.pyplot as plt\n",
        "import os\n",
        "import tensorflow_datasets as tfds\n",
        "from PIL import Image\n",
        "\n",
        "import requests\n",
        "from io import BytesIO"
      ],
      "execution_count": 0,
      "outputs": []
    },
    {
      "cell_type": "markdown",
      "metadata": {
        "id": "UxxEnqzf8jg7",
        "colab_type": "text"
      },
      "source": [
        "DIRECTORY NAME AND IMAGE NAME"
      ]
    },
    {
      "cell_type": "code",
      "metadata": {
        "id": "vtwZYRuG8oI2",
        "colab_type": "code",
        "colab": {}
      },
      "source": [
        "testImage = 'https://encrypted-tbn0.gstatic.com/images?q=tbn%3AANd9GcQHC8nbGhZ_6oMbDpCisGdtaDHHVU9dq6MmSP9AmU7giZN1VcKL'\n",
        "response = requests.get(testImage)\n",
        "image = Image.open(BytesIO(response.content))\n",
        "\n",
        "data = np.ndarray(shape=(1, 128, 128, 3), dtype=np.float32)\n",
        "\n",
        "image = image.resize((128, 128))\n",
        "image_array = np.asarray(image)\n",
        "normalized_image_array = image_array / 255.0\n",
        "data[0] = normalized_image_array\n",
        "\n",
        "\n",
        "####################################\n",
        "offineFoderScan = False            #    select True if wanna scan the whole folder for prediction\n",
        "directory = '/myFiles'             #    for offline use case only\n",
        "fileType = \".jpg\"                  #\n",
        "####################################"
      ],
      "execution_count": 0,
      "outputs": []
    },
    {
      "cell_type": "code",
      "metadata": {
        "id": "Nn5voJaO6dGb",
        "colab_type": "code",
        "colab": {}
      },
      "source": [
        "def importImage(modelName, graphName):\n",
        "  for file in os.listdir(directory):\n",
        "    if file.endswith(fileType):\n",
        "      fullPath = os.path.join(directory, file)\n",
        "\n",
        "      image = Image.open(fullPath)\n",
        "\n",
        "      plt.imshow(image)\n",
        "\n",
        "      image = image.resize((128, 128))\n",
        "      image_array = np.asarray(image)\n",
        "      normalized_image_array = image_array / 255.0\n",
        "      data[0] = normalized_image_array\n",
        "\n",
        "      prediction = modelName.predict(data)\n",
        "\n",
        "      print()\n",
        "      print(\"###########################################\")\n",
        "      print(\"Prediction by \" + graphName)\n",
        "      print(prediction)\n",
        "      print(\"###########################################\")\n",
        "      print()\n"
      ],
      "execution_count": 0,
      "outputs": []
    },
    {
      "cell_type": "code",
      "metadata": {
        "id": "hk5Qq5OyWO2i",
        "colab_type": "code",
        "colab": {}
      },
      "source": [
        "if (int(tf.__version__[0]) < 2):\n",
        "  !pip install tensorflow==2.0\n",
        "\n",
        "keras = tf.keras"
      ],
      "execution_count": 0,
      "outputs": []
    },
    {
      "cell_type": "code",
      "metadata": {
        "id": "CJMNcQq_XMqE",
        "colab_type": "code",
        "colab": {}
      },
      "source": [
        "SPLIT_WEIGHTS = (8, 1, 1)\n",
        "splits = tfds.Split.TRAIN.subsplit(weighted=SPLIT_WEIGHTS)\n",
        "\n",
        "(raw_train, raw_validation, raw_test), metadata = tfds.load('horses_or_humans', split=list(splits), with_info=True, as_supervised=True)\n"
      ],
      "execution_count": 0,
      "outputs": []
    },
    {
      "cell_type": "code",
      "metadata": {
        "id": "tKJBqtwjYikz",
        "colab_type": "code",
        "outputId": "c2173cd2-91bf-4320-92f1-78f250292632",
        "colab": {
          "base_uri": "https://localhost:8080/",
          "height": 54
        }
      },
      "source": [
        "\"\"\"get_label_name = metadata.features['label'].int2str\n",
        "for image, label in raw_train.take(20):\n",
        "  plt.figure()\n",
        "  plt.imshow(image)\n",
        "  plt.title(get_label_name(label))\"\"\""
      ],
      "execution_count": 0,
      "outputs": [
        {
          "output_type": "execute_result",
          "data": {
            "text/plain": [
              "\"get_label_name = metadata.features['label'].int2str\\nfor image, label in raw_train.take(20):\\n  plt.figure()\\n  plt.imshow(image)\\n  plt.title(get_label_name(label))\""
            ]
          },
          "metadata": {
            "tags": []
          },
          "execution_count": 81
        }
      ]
    },
    {
      "cell_type": "code",
      "metadata": {
        "id": "4lM_XIiPb5zj",
        "colab_type": "code",
        "colab": {}
      },
      "source": [
        "IMG_SIZE = 128\n",
        "\n",
        "def format_example(image, label):\n",
        "  image = tf.cast(image, tf.float32)\n",
        "  image = (image/127.5) - 1\n",
        "  image = tf.image.resize(image, (IMG_SIZE, IMG_SIZE))\n",
        "  return image, label"
      ],
      "execution_count": 0,
      "outputs": []
    },
    {
      "cell_type": "code",
      "metadata": {
        "id": "SichpGHd2QlZ",
        "colab_type": "code",
        "colab": {}
      },
      "source": [
        "train = raw_train.map(format_example)\n",
        "validation = raw_validation.map(format_example)\n",
        "test = raw_test.map(format_example)"
      ],
      "execution_count": 0,
      "outputs": []
    },
    {
      "cell_type": "code",
      "metadata": {
        "id": "XrXew10W2Q-Y",
        "colab_type": "code",
        "colab": {}
      },
      "source": [
        "BATCH_SIZE = 32\n",
        "SHUFFLE_BUFFER_SIZE = 1000"
      ],
      "execution_count": 0,
      "outputs": []
    },
    {
      "cell_type": "code",
      "metadata": {
        "id": "6fcjp-CO2TGo",
        "colab_type": "code",
        "colab": {}
      },
      "source": [
        "train_batches = train.shuffle(SHUFFLE_BUFFER_SIZE).batch(BATCH_SIZE)\n",
        "validation_batches = validation.batch(BATCH_SIZE)\n",
        "test_batches = test.batch(BATCH_SIZE)"
      ],
      "execution_count": 0,
      "outputs": []
    },
    {
      "cell_type": "code",
      "metadata": {
        "id": "OPjhNeMG2VVA",
        "colab_type": "code",
        "outputId": "b8228751-e52b-48da-f0a1-19adf0d22f6e",
        "colab": {
          "base_uri": "https://localhost:8080/",
          "height": 34
        }
      },
      "source": [
        "for image_batch, label_batch in train_batches.take(1):\n",
        "   pass\n",
        "\n",
        "image_batch.shape"
      ],
      "execution_count": 0,
      "outputs": [
        {
          "output_type": "execute_result",
          "data": {
            "text/plain": [
              "TensorShape([32, 128, 128, 3])"
            ]
          },
          "metadata": {
            "tags": []
          },
          "execution_count": 86
        }
      ]
    },
    {
      "cell_type": "markdown",
      "metadata": {
        "id": "hgIHylXcmTqL",
        "colab_type": "text"
      },
      "source": [
        "LOADING AND TRAINING PRE-TRAINED MODEL"
      ]
    },
    {
      "cell_type": "code",
      "metadata": {
        "id": "J9VK21E_5yEZ",
        "colab_type": "code",
        "colab": {}
      },
      "source": [
        "IMG_SHAPE = (IMG_SIZE, IMG_SIZE, 3)\n",
        "\n",
        "first_model = tf.keras.applications.MobileNetV2(input_shape=IMG_SHAPE,\n",
        "                                               include_top=False,\n",
        "                                               weights='imagenet')\n",
        "\n",
        "second_model = tf.keras.applications.InceptionV3(input_shape=IMG_SHAPE,\n",
        "                                                include_top=False,\n",
        "                                                weights='imagenet')\n"
      ],
      "execution_count": 0,
      "outputs": []
    },
    {
      "cell_type": "code",
      "metadata": {
        "id": "0P515XzTntwS",
        "colab_type": "code",
        "colab": {}
      },
      "source": [
        "def modelSet(model_name, graphName):\n",
        "  feature_batch = model_name(image_batch)\n",
        "  # print(feature_batch.shape)\n",
        "\n",
        "  model_name.trainable = False\n",
        "  #model_name.summary()\n",
        "\n",
        "  global_average_layer = tf.keras.layers.GlobalAveragePooling2D()\n",
        "  feature_batch_average = global_average_layer(feature_batch)\n",
        "  # print(feature_batch_average.shape)\n",
        "\n",
        "  prediction_layer = keras.layers.Dense(1)\n",
        "  prediction_batch = prediction_layer(feature_batch_average)\n",
        "  # print(prediction_batch.shape)\n",
        "  # print()\n",
        "\n",
        "  model = tf.keras.Sequential([\n",
        "    model_name,\n",
        "    global_average_layer,\n",
        "    prediction_layer\n",
        "  ])\n",
        "\n",
        "  base_learning_rate = 0.0001\n",
        "  model.compile(optimizer=tf.keras.optimizers.RMSprop(lr=base_learning_rate),\n",
        "                loss='binary_crossentropy',\n",
        "                metrics=['accuracy'])\n",
        "  # model.summary()\n",
        "  # len(model.trainable_variables)\n",
        "\n",
        "  num_train, num_val, num_test = (\n",
        "    metadata.splits['train'].num_examples*weight/10\n",
        "    for weight in SPLIT_WEIGHTS\n",
        "  )\n",
        "\n",
        "  initial_epochs = 10\n",
        "  steps_per_epoch = round(num_train)//BATCH_SIZE\n",
        "  validation_steps = 4\n",
        "\n",
        "  loss0,accuracy0 = model.evaluate(validation_batches, steps = validation_steps)\n",
        "\n",
        "  print(\"initial loss: {:.2f}\".format(loss0))\n",
        "  print(\"initial accuracy: {:.2f}\".format(accuracy0))\n",
        "\n",
        "  history = model.fit(train_batches,\n",
        "                      epochs=initial_epochs,\n",
        "                      validation_data=validation_batches)\n",
        "  \n",
        "  plotGraph(history, graphName)\n",
        "  \n",
        "  if (offineFoderScan):\n",
        "    importImage(model)\n",
        "\n",
        "  else:\n",
        "    samplePrediction = model.predict(data)\n",
        "\n",
        "    image.show()\n",
        "\n",
        "    print()\n",
        "    print(\"###########################################\")\n",
        "    print(\"Prediction by \" + graphName)\n",
        "    print(samplePrediction)\n",
        "    print(\"###########################################\")\n",
        "    print()"
      ],
      "execution_count": 0,
      "outputs": []
    },
    {
      "cell_type": "code",
      "metadata": {
        "id": "G51guV5FhJLr",
        "colab_type": "code",
        "colab": {}
      },
      "source": [
        "def customModel(graphName):\n",
        "\n",
        "  model = tf.keras.models.Sequential()\n",
        "  model.add(tf.keras.layers.Conv2D(32, (3, 3), activation='relu', input_shape=(IMG_SIZE, IMG_SIZE, 3)))\n",
        "  model.add(tf.keras.layers.MaxPooling2D((2, 2)))\n",
        "  model.add(tf.keras.layers.Conv2D(64, (3, 3), activation='relu'))\n",
        "  model.add(tf.keras.layers.MaxPooling2D((2, 2)))\n",
        "  model.add(tf.keras.layers.Conv2D(64, (3, 3), activation='relu'))\n",
        "\n",
        "  model.add(tf.keras.layers.Flatten())\n",
        "  model.add(tf.keras.layers.Dense(64, activation='relu'))\n",
        "  model.add(tf.keras.layers.Dense(2, activation='softmax'))\n",
        "\n",
        "\n",
        "  model.compile(optimizer='adam',\n",
        "                loss='binary_crossentropy',\n",
        "                metrics=['accuracy'])\n",
        "\n",
        "  history = model.fit(train_batches,\n",
        "                      epochs=10,\n",
        "                      validation_data=validation_batches)\n",
        "  \n",
        "  plotGraph(history, \"My Custom Model\")\n",
        "\n",
        "  if (offineFoderScan):\n",
        "    importImage(model)\n",
        "\n",
        "  else:\n",
        "\n",
        "    samplePrediction = model.predict(data)\n",
        "\n",
        "    image.show()\n",
        "\n",
        "    print()\n",
        "    print(\"###########################################\")\n",
        "    print(\"Prediction by \" + graphName)\n",
        "    print(samplePrediction)\n",
        "    print(\"###########################################\")\n",
        "    print()"
      ],
      "execution_count": 0,
      "outputs": []
    },
    {
      "cell_type": "code",
      "metadata": {
        "id": "PGivkv2o2tE_",
        "colab_type": "code",
        "colab": {}
      },
      "source": [
        "def plotGraph(data, graphName):\n",
        "  acc = data.history['accuracy']\n",
        "  val_acc = data.history['val_accuracy']\n",
        "\n",
        "  loss = data.history['loss']\n",
        "  val_loss = data.history['val_loss']\n",
        "\n",
        "  plt.figure(figsize=(8, 8))\n",
        "  plt.subplot(2, 1, 1)\n",
        "  plt.plot(acc, label='Training Accuracy')\n",
        "  plt.plot(val_acc, label='Validation Accuracy')\n",
        "  plt.legend(loc='lower right')\n",
        "  plt.ylabel('Accuracy')\n",
        "  plt.ylim([min(plt.ylim()),1])\n",
        "  plt.title('Training and Validation Accuracy by ' + graphName)"
      ],
      "execution_count": 0,
      "outputs": []
    },
    {
      "cell_type": "code",
      "metadata": {
        "id": "3bZb2PAt668l",
        "colab_type": "code",
        "outputId": "98932196-d2bd-442a-af12-cd0584868e57",
        "colab": {
          "base_uri": "https://localhost:8080/",
          "height": 1000
        }
      },
      "source": [
        "modelSet(first_model, \"First Model\")\n",
        "modelSet(second_model, \"Second Model\")\n",
        "customModel(\"My Custom Model\")"
      ],
      "execution_count": 0,
      "outputs": [
        {
          "output_type": "stream",
          "text": [
            "4/4 [==============================] - 4s 913ms/step - loss: 4.8200 - accuracy: 0.5900\n",
            "initial loss: 4.82\n",
            "initial accuracy: 0.59\n",
            "Epoch 1/10\n",
            "26/26 [==============================] - 38s 1s/step - loss: 4.1305 - accuracy: 0.5913 - val_loss: 0.0000e+00 - val_accuracy: 0.0000e+00\n",
            "Epoch 2/10\n",
            "26/26 [==============================] - 34s 1s/step - loss: 3.4062 - accuracy: 0.6336 - val_loss: 2.0636 - val_accuracy: 0.7900\n",
            "Epoch 3/10\n",
            "26/26 [==============================] - 34s 1s/step - loss: 3.0457 - accuracy: 0.6663 - val_loss: 0.9072 - val_accuracy: 0.8300\n",
            "Epoch 4/10\n",
            "26/26 [==============================] - 34s 1s/step - loss: 2.5649 - accuracy: 0.7122 - val_loss: 0.6513 - val_accuracy: 0.8900\n",
            "Epoch 5/10\n",
            "26/26 [==============================] - 34s 1s/step - loss: 2.2119 - accuracy: 0.7146 - val_loss: 0.4856 - val_accuracy: 0.9100\n",
            "Epoch 6/10\n",
            "26/26 [==============================] - 34s 1s/step - loss: 2.2305 - accuracy: 0.7304 - val_loss: 0.3894 - val_accuracy: 0.9100\n",
            "Epoch 7/10\n",
            "26/26 [==============================] - 35s 1s/step - loss: 1.8954 - accuracy: 0.7666 - val_loss: 0.2540 - val_accuracy: 0.9300\n",
            "Epoch 8/10\n",
            "26/26 [==============================] - 35s 1s/step - loss: 1.8603 - accuracy: 0.7739 - val_loss: 0.0995 - val_accuracy: 0.9400\n",
            "Epoch 9/10\n",
            "26/26 [==============================] - 35s 1s/step - loss: 1.4222 - accuracy: 0.8041 - val_loss: 0.0987 - val_accuracy: 0.9600\n",
            "Epoch 10/10\n",
            "26/26 [==============================] - 34s 1s/step - loss: 1.4321 - accuracy: 0.8186 - val_loss: 0.0725 - val_accuracy: 0.9700\n",
            "\n",
            "###########################################\n",
            "Prediction by First Model\n",
            "[[0.39697397]]\n",
            "###########################################\n",
            "\n",
            "4/4 [==============================] - 5s 1s/step - loss: 6.7650 - accuracy: 0.4100\n",
            "initial loss: 6.77\n",
            "initial accuracy: 0.41\n",
            "Epoch 1/10\n",
            "26/26 [==============================] - 46s 2s/step - loss: 4.2809 - accuracy: 0.4933 - val_loss: 0.0000e+00 - val_accuracy: 0.0000e+00\n",
            "Epoch 2/10\n",
            "26/26 [==============================] - 41s 2s/step - loss: 3.8462 - accuracy: 0.4982 - val_loss: 6.0704 - val_accuracy: 0.5200\n",
            "Epoch 3/10\n",
            "26/26 [==============================] - 42s 2s/step - loss: 3.7641 - accuracy: 0.5127 - val_loss: 5.3385 - val_accuracy: 0.5600\n",
            "Epoch 4/10\n",
            "26/26 [==============================] - 42s 2s/step - loss: 2.9884 - accuracy: 0.5175 - val_loss: 5.4038 - val_accuracy: 0.5400\n",
            "Epoch 5/10\n",
            "26/26 [==============================] - 42s 2s/step - loss: 3.4209 - accuracy: 0.5151 - val_loss: 5.0788 - val_accuracy: 0.6100\n",
            "Epoch 6/10\n",
            "26/26 [==============================] - 42s 2s/step - loss: 3.0582 - accuracy: 0.5623 - val_loss: 6.5266 - val_accuracy: 0.5700\n",
            "Epoch 7/10\n",
            "26/26 [==============================] - 42s 2s/step - loss: 2.9417 - accuracy: 0.5429 - val_loss: 6.1965 - val_accuracy: 0.5700\n",
            "Epoch 8/10\n",
            "26/26 [==============================] - 42s 2s/step - loss: 2.7946 - accuracy: 0.5816 - val_loss: 4.9899 - val_accuracy: 0.6300\n",
            "Epoch 9/10\n",
            "26/26 [==============================] - 42s 2s/step - loss: 3.0078 - accuracy: 0.5586 - val_loss: 4.9701 - val_accuracy: 0.6500\n",
            "Epoch 10/10\n",
            "26/26 [==============================] - 42s 2s/step - loss: 2.8524 - accuracy: 0.5441 - val_loss: 4.8735 - val_accuracy: 0.6600\n",
            "\n",
            "###########################################\n",
            "Prediction by Second Model\n",
            "[[-0.17523868]]\n",
            "###########################################\n",
            "\n",
            "Epoch 1/2\n",
            "26/26 [==============================] - 30s 1s/step - loss: 0.8718 - accuracy: 0.5000 - val_loss: 0.0000e+00 - val_accuracy: 0.0000e+00\n",
            "Epoch 2/2\n",
            "26/26 [==============================] - 30s 1s/step - loss: 0.6931 - accuracy: 0.5000 - val_loss: 0.6931 - val_accuracy: 0.5000\n",
            "\n",
            "###########################################\n",
            "Prediction by My Custom Model\n",
            "[[0.49840567 0.5015943 ]]\n",
            "###########################################\n",
            "\n"
          ],
          "name": "stdout"
        },
        {
          "output_type": "display_data",
          "data": {
            "image/png": "[encoded data removed]",
            "text/plain": [
              "<Figure size 576x576 with 1 Axes>"
            ]
          },
          "metadata": {
            "tags": []
          }
        },
        {
          "output_type": "display_data",
          "data": {
            "image/png": "[encoded data removed]",
            "text/plain": [
              "<Figure size 576x576 with 1 Axes>"
            ]
          },
          "metadata": {
            "tags": []
          }
        },
        {
          "output_type": "display_data",
          "data": {
            "image/png": "[encoded data removed]",
            "text/plain": [
              "<Figure size 576x576 with 1 Axes>"
            ]
          },
          "metadata": {
            "tags": []
          }
        }
      ]
    }
  ]
}